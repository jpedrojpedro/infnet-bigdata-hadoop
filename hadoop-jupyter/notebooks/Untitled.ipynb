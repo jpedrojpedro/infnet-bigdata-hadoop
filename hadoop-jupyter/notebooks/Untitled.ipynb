{
 "cells": [
  {
   "cell_type": "code",
   "execution_count": 1,
   "id": "48c08ebc",
   "metadata": {},
   "outputs": [],
   "source": [
    "! hadoop fs -mkdir -p /user/root/onibus/batch/rua_garagem"
   ]
  },
  {
   "cell_type": "code",
   "execution_count": 2,
   "id": "b09134d0",
   "metadata": {},
   "outputs": [],
   "source": [
    "! hadoop fs -put ../datasets/rua_garagem/* /user/root/onibus/batch/rua_garagem/"
   ]
  },
  {
   "cell_type": "code",
   "execution_count": 3,
   "id": "4556d83a",
   "metadata": {},
   "outputs": [
    {
     "name": "stdout",
     "output_type": "stream",
     "text": [
      "Found 6 items\r\n",
      "drwxr-xr-x   - root supergroup          0 2023-06-27 23:05 /user/root/onibus/batch/rua_garagem/20230627_110600.parquet\r\n",
      "drwxr-xr-x   - root supergroup          0 2023-06-27 23:05 /user/root/onibus/batch/rua_garagem/20230627_110900.parquet\r\n",
      "drwxr-xr-x   - root supergroup          0 2023-06-27 23:05 /user/root/onibus/batch/rua_garagem/20230627_111200.parquet\r\n",
      "drwxr-xr-x   - root supergroup          0 2023-06-27 23:05 /user/root/onibus/batch/rua_garagem/20230627_111500.parquet\r\n",
      "drwxr-xr-x   - root supergroup          0 2023-06-27 23:05 /user/root/onibus/batch/rua_garagem/20230627_111800.parquet\r\n",
      "drwxr-xr-x   - root supergroup          0 2023-06-27 23:05 /user/root/onibus/batch/rua_garagem/20230627_112100.parquet\r\n"
     ]
    }
   ],
   "source": [
    "! hadoop fs -ls /user/root/onibus/batch/rua_garagem/"
   ]
  }
 ],
 "metadata": {
  "kernelspec": {
   "display_name": "Python 3",
   "language": "python",
   "name": "python3"
  },
  "language_info": {
   "codemirror_mode": {
    "name": "ipython",
    "version": 3
   },
   "file_extension": ".py",
   "mimetype": "text/x-python",
   "name": "python",
   "nbconvert_exporter": "python",
   "pygments_lexer": "ipython3",
   "version": "3.6.9"
  }
 },
 "nbformat": 4,
 "nbformat_minor": 5
}
