{
 "cells": [
  {
   "cell_type": "code",
   "execution_count": 1,
   "id": "cc06b95e",
   "metadata": {},
   "outputs": [],
   "source": [
    "import findspark\n",
    "findspark.init()\n",
    "from pathlib import Path\n",
    "from pyspark import SparkContext, SparkConf, SQLContext\n",
    "from pyspark.sql import SparkSession, Window\n",
    "from pyspark.sql.functions import col, avg, count, row_number, expr, when, from_unixtime, floor\n",
    "from pyspark.sql.window import Window\n",
    "# from pyspark.sql.types import StructType, StructField, IntegerType, StringType, FloatType, LongType\n",
    "# from pyspark.sql.functions import col, regexp_replace, length, desc, row_number"
   ]
  },
  {
   "cell_type": "code",
   "execution_count": 2,
   "id": "9534489e",
   "metadata": {},
   "outputs": [],
   "source": [
    "conf = SparkConf().setAppName(\"feature-matrix\")\n",
    "sc = SparkContext(conf=conf)\n",
    "spark = SparkSession(sc)"
   ]
  },
  {
   "cell_type": "code",
   "execution_count": 3,
   "id": "ee9064d8",
   "metadata": {},
   "outputs": [],
   "source": [
    "def shape(df):\n",
    "    return (df.count(), len(df.columns))"
   ]
  },
  {
   "cell_type": "markdown",
   "id": "52bb1903",
   "metadata": {},
   "source": [
    "## carregando arquivos Parquet no HDFS"
   ]
  },
  {
   "cell_type": "code",
   "execution_count": 4,
   "id": "490ee7ec",
   "metadata": {},
   "outputs": [],
   "source": [
    "bus_api_folder = Path.cwd().parent / \"datasets\" / \"bus-api-parquet\""
   ]
  },
  {
   "cell_type": "code",
   "execution_count": 5,
   "id": "385d14af",
   "metadata": {},
   "outputs": [
    {
     "data": {
      "text/plain": [
       "'/root/lab/datasets/bus-api-parquet'"
      ]
     },
     "execution_count": 5,
     "metadata": {},
     "output_type": "execute_result"
    }
   ],
   "source": [
    "str(bus_api_folder)"
   ]
  },
  {
   "cell_type": "code",
   "execution_count": 6,
   "id": "39014fc8",
   "metadata": {},
   "outputs": [
    {
     "name": "stdout",
     "output_type": "stream",
     "text": [
      "23/09/22 18:30:21 WARN util.NativeCodeLoader: Unable to load native-hadoop library for your platform... using builtin-java classes where applicable\r\n"
     ]
    }
   ],
   "source": [
    "! hadoop fs -mkdir /user/root/bus-api-parquet"
   ]
  },
  {
   "cell_type": "code",
   "execution_count": 7,
   "id": "80c1722b",
   "metadata": {},
   "outputs": [
    {
     "name": "stdout",
     "output_type": "stream",
     "text": [
      "23/09/22 18:30:23 WARN util.NativeCodeLoader: Unable to load native-hadoop library for your platform... using builtin-java classes where applicable\r\n"
     ]
    }
   ],
   "source": [
    "! hadoop fs -put /root/lab/datasets/bus-api-parquet/*.parquet /user/root/bus-api-parquet/"
   ]
  },
  {
   "cell_type": "code",
   "execution_count": 8,
   "id": "d7d179cd",
   "metadata": {
    "collapsed": true
   },
   "outputs": [
    {
     "name": "stdout",
     "output_type": "stream",
     "text": [
      "23/09/22 18:30:56 WARN util.NativeCodeLoader: Unable to load native-hadoop library for your platform... using builtin-java classes where applicable\n",
      "Found 176 items\n",
      "-rw-r--r--   2 root supergroup    2222629 2023-09-22 18:30 /user/root/bus-api-parquet/2023-05-15_000000.jsonl.parquet\n",
      "-rw-r--r--   2 root supergroup    2113077 2023-09-22 18:30 /user/root/bus-api-parquet/2023-05-15_010000.jsonl.parquet\n",
      "-rw-r--r--   2 root supergroup    2135617 2023-09-22 18:30 /user/root/bus-api-parquet/2023-05-15_020000.jsonl.parquet\n",
      "-rw-r--r--   2 root supergroup    2509609 2023-09-22 18:30 /user/root/bus-api-parquet/2023-05-15_030000.jsonl.parquet\n",
      "-rw-r--r--   2 root supergroup    3586780 2023-09-22 18:30 /user/root/bus-api-parquet/2023-05-15_040000.jsonl.parquet\n",
      "-rw-r--r--   2 root supergroup    4838785 2023-09-22 18:30 /user/root/bus-api-parquet/2023-05-15_050000.jsonl.parquet\n",
      "-rw-r--r--   2 root supergroup    5411458 2023-09-22 18:30 /user/root/bus-api-parquet/2023-05-15_060000.jsonl.parquet\n",
      "-rw-r--r--   2 root supergroup    5522258 2023-09-22 18:30 /user/root/bus-api-parquet/2023-05-15_070000.jsonl.parquet\n",
      "-rw-r--r--   2 root supergroup    5790221 2023-09-22 18:30 /user/root/bus-api-parquet/2023-05-15_080000.jsonl.parquet\n",
      "-rw-r--r--   2 root supergroup    6177846 2023-09-22 18:30 /user/root/bus-api-parquet/2023-05-15_090000.jsonl.parquet\n",
      "-rw-r--r--   2 root supergroup    5391275 2023-09-22 18:30 /user/root/bus-api-parquet/2023-05-15_100000.jsonl.parquet\n",
      "-rw-r--r--   2 root supergroup    5246345 2023-09-22 18:30 /user/root/bus-api-parquet/2023-05-15_110000.jsonl.parquet\n",
      "-rw-r--r--   2 root supergroup    5239697 2023-09-22 18:30 /user/root/bus-api-parquet/2023-05-15_120000.jsonl.parquet\n",
      "-rw-r--r--   2 root supergroup    5193485 2023-09-22 18:30 /user/root/bus-api-parquet/2023-05-15_130000.jsonl.parquet\n",
      "-rw-r--r--   2 root supergroup    5228446 2023-09-22 18:30 /user/root/bus-api-parquet/2023-05-15_140000.jsonl.parquet\n",
      "-rw-r--r--   2 root supergroup    5332654 2023-09-22 18:30 /user/root/bus-api-parquet/2023-05-15_150000.jsonl.parquet\n",
      "-rw-r--r--   2 root supergroup    5474526 2023-09-22 18:30 /user/root/bus-api-parquet/2023-05-15_160000.jsonl.parquet\n",
      "-rw-r--r--   2 root supergroup    5521379 2023-09-22 18:30 /user/root/bus-api-parquet/2023-05-15_170000.jsonl.parquet\n",
      "-rw-r--r--   2 root supergroup    5542448 2023-09-22 18:30 /user/root/bus-api-parquet/2023-05-15_180000.jsonl.parquet\n",
      "-rw-r--r--   2 root supergroup    5408134 2023-09-22 18:30 /user/root/bus-api-parquet/2023-05-15_190000.jsonl.parquet\n",
      "-rw-r--r--   2 root supergroup    5133113 2023-09-22 18:30 /user/root/bus-api-parquet/2023-05-15_200000.jsonl.parquet\n",
      "-rw-r--r--   2 root supergroup    4508035 2023-09-22 18:30 /user/root/bus-api-parquet/2023-05-15_210000.jsonl.parquet\n",
      "-rw-r--r--   2 root supergroup    3916993 2023-09-22 18:30 /user/root/bus-api-parquet/2023-05-15_220000.jsonl.parquet\n",
      "-rw-r--r--   2 root supergroup    3350977 2023-09-22 18:30 /user/root/bus-api-parquet/2023-05-15_230000.jsonl.parquet\n",
      "-rw-r--r--   2 root supergroup    2774568 2023-09-22 18:30 /user/root/bus-api-parquet/2023-05-16_000000.jsonl.parquet\n",
      "-rw-r--r--   2 root supergroup    2373767 2023-09-22 18:30 /user/root/bus-api-parquet/2023-05-16_010000.jsonl.parquet\n",
      "-rw-r--r--   2 root supergroup    2308513 2023-09-22 18:30 /user/root/bus-api-parquet/2023-05-16_020000.jsonl.parquet\n",
      "-rw-r--r--   2 root supergroup    2605544 2023-09-22 18:30 /user/root/bus-api-parquet/2023-05-16_030000.jsonl.parquet\n",
      "-rw-r--r--   2 root supergroup    3669175 2023-09-22 18:30 /user/root/bus-api-parquet/2023-05-16_040000.jsonl.parquet\n",
      "-rw-r--r--   2 root supergroup    4824671 2023-09-22 18:30 /user/root/bus-api-parquet/2023-05-16_050000.jsonl.parquet\n",
      "-rw-r--r--   2 root supergroup    5424367 2023-09-22 18:30 /user/root/bus-api-parquet/2023-05-16_060000.jsonl.parquet\n",
      "-rw-r--r--   2 root supergroup    5542522 2023-09-22 18:30 /user/root/bus-api-parquet/2023-05-16_070000.jsonl.parquet\n",
      "-rw-r--r--   2 root supergroup    5574413 2023-09-22 18:30 /user/root/bus-api-parquet/2023-05-16_080000.jsonl.parquet\n",
      "-rw-r--r--   2 root supergroup    5973987 2023-09-22 18:30 /user/root/bus-api-parquet/2023-05-16_090000.jsonl.parquet\n",
      "-rw-r--r--   2 root supergroup    5386051 2023-09-22 18:30 /user/root/bus-api-parquet/2023-05-16_100000.jsonl.parquet\n",
      "-rw-r--r--   2 root supergroup    5309272 2023-09-22 18:30 /user/root/bus-api-parquet/2023-05-16_110000.jsonl.parquet\n",
      "-rw-r--r--   2 root supergroup    5316414 2023-09-22 18:30 /user/root/bus-api-parquet/2023-05-16_120000.jsonl.parquet\n",
      "-rw-r--r--   2 root supergroup    5329931 2023-09-22 18:30 /user/root/bus-api-parquet/2023-05-16_130000.jsonl.parquet\n",
      "-rw-r--r--   2 root supergroup    5348583 2023-09-22 18:30 /user/root/bus-api-parquet/2023-05-16_140000.jsonl.parquet\n",
      "-rw-r--r--   2 root supergroup    5344225 2023-09-22 18:30 /user/root/bus-api-parquet/2023-05-16_150000.jsonl.parquet\n",
      "-rw-r--r--   2 root supergroup    5545043 2023-09-22 18:30 /user/root/bus-api-parquet/2023-05-16_160000.jsonl.parquet\n",
      "-rw-r--r--   2 root supergroup    5520898 2023-09-22 18:30 /user/root/bus-api-parquet/2023-05-16_170000.jsonl.parquet\n",
      "-rw-r--r--   2 root supergroup    5560863 2023-09-22 18:30 /user/root/bus-api-parquet/2023-05-16_180000.jsonl.parquet\n",
      "-rw-r--r--   2 root supergroup    5445652 2023-09-22 18:30 /user/root/bus-api-parquet/2023-05-16_190000.jsonl.parquet\n",
      "-rw-r--r--   2 root supergroup    5227328 2023-09-22 18:30 /user/root/bus-api-parquet/2023-05-16_200000.jsonl.parquet\n",
      "-rw-r--r--   2 root supergroup    4734022 2023-09-22 18:30 /user/root/bus-api-parquet/2023-05-16_210000.jsonl.parquet\n",
      "-rw-r--r--   2 root supergroup    4050356 2023-09-22 18:30 /user/root/bus-api-parquet/2023-05-16_220000.jsonl.parquet\n",
      "-rw-r--r--   2 root supergroup    3417820 2023-09-22 18:30 /user/root/bus-api-parquet/2023-05-16_230000.jsonl.parquet\n",
      "-rw-r--r--   2 root supergroup    2883569 2023-09-22 18:30 /user/root/bus-api-parquet/2023-05-17_000000.jsonl.parquet\n",
      "-rw-r--r--   2 root supergroup    2418627 2023-09-22 18:30 /user/root/bus-api-parquet/2023-05-17_010000.jsonl.parquet\n",
      "-rw-r--r--   2 root supergroup    2644731 2023-09-22 18:30 /user/root/bus-api-parquet/2023-05-17_020000.jsonl.parquet\n",
      "-rw-r--r--   2 root supergroup    2655319 2023-09-22 18:30 /user/root/bus-api-parquet/2023-05-17_030000.jsonl.parquet\n",
      "-rw-r--r--   2 root supergroup    3589528 2023-09-22 18:30 /user/root/bus-api-parquet/2023-05-17_040000.jsonl.parquet\n",
      "-rw-r--r--   2 root supergroup    4767097 2023-09-22 18:30 /user/root/bus-api-parquet/2023-05-17_050000.jsonl.parquet\n",
      "-rw-r--r--   2 root supergroup    5382583 2023-09-22 18:30 /user/root/bus-api-parquet/2023-05-17_060000.jsonl.parquet\n",
      "-rw-r--r--   2 root supergroup    5566611 2023-09-22 18:30 /user/root/bus-api-parquet/2023-05-17_070000.jsonl.parquet\n",
      "-rw-r--r--   2 root supergroup    6032629 2023-09-22 18:30 /user/root/bus-api-parquet/2023-05-17_080000.jsonl.parquet\n",
      "-rw-r--r--   2 root supergroup    6196498 2023-09-22 18:30 /user/root/bus-api-parquet/2023-05-17_090000.jsonl.parquet\n",
      "-rw-r--r--   2 root supergroup    5557960 2023-09-22 18:30 /user/root/bus-api-parquet/2023-05-17_100000.jsonl.parquet\n",
      "-rw-r--r--   2 root supergroup    5824548 2023-09-22 18:30 /user/root/bus-api-parquet/2023-05-17_110000.jsonl.parquet\n",
      "-rw-r--r--   2 root supergroup    5564615 2023-09-22 18:30 /user/root/bus-api-parquet/2023-05-17_120000.jsonl.parquet\n",
      "-rw-r--r--   2 root supergroup    5279509 2023-09-22 18:30 /user/root/bus-api-parquet/2023-05-17_130000.jsonl.parquet\n",
      "-rw-r--r--   2 root supergroup    5321927 2023-09-22 18:30 /user/root/bus-api-parquet/2023-05-17_140000.jsonl.parquet\n",
      "-rw-r--r--   2 root supergroup    5336317 2023-09-22 18:30 /user/root/bus-api-parquet/2023-05-17_150000.jsonl.parquet\n",
      "-rw-r--r--   2 root supergroup    5504690 2023-09-22 18:30 /user/root/bus-api-parquet/2023-05-17_160000.jsonl.parquet\n",
      "-rw-r--r--   2 root supergroup    5537339 2023-09-22 18:30 /user/root/bus-api-parquet/2023-05-17_170000.jsonl.parquet\n",
      "-rw-r--r--   2 root supergroup    5508757 2023-09-22 18:30 /user/root/bus-api-parquet/2023-05-17_180000.jsonl.parquet\n",
      "-rw-r--r--   2 root supergroup    5475573 2023-09-22 18:30 /user/root/bus-api-parquet/2023-05-17_190000.jsonl.parquet\n",
      "-rw-r--r--   2 root supergroup    5252240 2023-09-22 18:30 /user/root/bus-api-parquet/2023-05-17_200000.jsonl.parquet\n",
      "-rw-r--r--   2 root supergroup    4664415 2023-09-22 18:30 /user/root/bus-api-parquet/2023-05-17_210000.jsonl.parquet\n",
      "-rw-r--r--   2 root supergroup    4033040 2023-09-22 18:30 /user/root/bus-api-parquet/2023-05-17_220000.jsonl.parquet\n",
      "-rw-r--r--   2 root supergroup    3401642 2023-09-22 18:30 /user/root/bus-api-parquet/2023-05-17_230000.jsonl.parquet\n",
      "-rw-r--r--   2 root supergroup    2894968 2023-09-22 18:30 /user/root/bus-api-parquet/2023-05-18_000000.jsonl.parquet\n",
      "-rw-r--r--   2 root supergroup    2419606 2023-09-22 18:30 /user/root/bus-api-parquet/2023-05-18_010000.jsonl.parquet\n",
      "-rw-r--r--   2 root supergroup    2427451 2023-09-22 18:30 /user/root/bus-api-parquet/2023-05-18_020000.jsonl.parquet\n",
      "-rw-r--r--   2 root supergroup    2608078 2023-09-22 18:30 /user/root/bus-api-parquet/2023-05-18_030000.jsonl.parquet\n",
      "-rw-r--r--   2 root supergroup    5449984 2023-09-22 18:30 /user/root/bus-api-parquet/2023-05-18_100000.jsonl.parquet\n",
      "-rw-r--r--   2 root supergroup    5869274 2023-09-22 18:30 /user/root/bus-api-parquet/2023-05-18_110000.jsonl.parquet\n",
      "-rw-r--r--   2 root supergroup    5260952 2023-09-22 18:30 /user/root/bus-api-parquet/2023-05-18_120000.jsonl.parquet\n"
     ]
    },
    {
     "name": "stdout",
     "output_type": "stream",
     "text": [
      "-rw-r--r--   2 root supergroup    5281862 2023-09-22 18:30 /user/root/bus-api-parquet/2023-05-18_140000.jsonl.parquet\r\n",
      "-rw-r--r--   2 root supergroup    5378069 2023-09-22 18:30 /user/root/bus-api-parquet/2023-05-18_150000.jsonl.parquet\r\n",
      "-rw-r--r--   2 root supergroup    5503691 2023-09-22 18:30 /user/root/bus-api-parquet/2023-05-18_160000.jsonl.parquet\r\n",
      "-rw-r--r--   2 root supergroup    5587071 2023-09-22 18:30 /user/root/bus-api-parquet/2023-05-18_170000.jsonl.parquet\r\n",
      "-rw-r--r--   2 root supergroup    5522931 2023-09-22 18:30 /user/root/bus-api-parquet/2023-05-18_180000.jsonl.parquet\r\n",
      "-rw-r--r--   2 root supergroup    2834894 2023-09-22 18:30 /user/root/bus-api-parquet/2023-05-19_000000.jsonl.parquet\r\n",
      "-rw-r--r--   2 root supergroup    2433368 2023-09-22 18:30 /user/root/bus-api-parquet/2023-05-19_020000.jsonl.parquet\r\n",
      "-rw-r--r--   2 root supergroup    2621753 2023-09-22 18:30 /user/root/bus-api-parquet/2023-05-19_030000.jsonl.parquet\r\n",
      "-rw-r--r--   2 root supergroup    3667391 2023-09-22 18:30 /user/root/bus-api-parquet/2023-05-19_040000.jsonl.parquet\r\n",
      "-rw-r--r--   2 root supergroup    4775310 2023-09-22 18:30 /user/root/bus-api-parquet/2023-05-19_050000.jsonl.parquet\r\n",
      "-rw-r--r--   2 root supergroup    5392172 2023-09-22 18:30 /user/root/bus-api-parquet/2023-05-19_060000.jsonl.parquet\r\n",
      "-rw-r--r--   2 root supergroup    5562064 2023-09-22 18:30 /user/root/bus-api-parquet/2023-05-19_070000.jsonl.parquet\r\n",
      "-rw-r--r--   2 root supergroup    5597617 2023-09-22 18:30 /user/root/bus-api-parquet/2023-05-19_080000.jsonl.parquet\r\n",
      "-rw-r--r--   2 root supergroup    5902809 2023-09-22 18:30 /user/root/bus-api-parquet/2023-05-19_090000.jsonl.parquet\r\n",
      "-rw-r--r--   2 root supergroup    5952840 2023-09-22 18:30 /user/root/bus-api-parquet/2023-05-19_100000.jsonl.parquet\r\n",
      "-rw-r--r--   2 root supergroup    5560590 2023-09-22 18:30 /user/root/bus-api-parquet/2023-05-19_110000.jsonl.parquet\r\n",
      "-rw-r--r--   2 root supergroup    5265856 2023-09-22 18:30 /user/root/bus-api-parquet/2023-05-19_120000.jsonl.parquet\r\n",
      "-rw-r--r--   2 root supergroup    5289506 2023-09-22 18:30 /user/root/bus-api-parquet/2023-05-19_130000.jsonl.parquet\r\n",
      "-rw-r--r--   2 root supergroup    5325062 2023-09-22 18:30 /user/root/bus-api-parquet/2023-05-19_140000.jsonl.parquet\r\n",
      "-rw-r--r--   2 root supergroup    4757905 2023-09-22 18:30 /user/root/bus-api-parquet/2023-05-19_210000.jsonl.parquet\r\n",
      "-rw-r--r--   2 root supergroup    4151846 2023-09-22 18:30 /user/root/bus-api-parquet/2023-05-19_220000.jsonl.parquet\r\n",
      "-rw-r--r--   2 root supergroup    3464191 2023-09-22 18:30 /user/root/bus-api-parquet/2023-05-19_230000.jsonl.parquet\r\n",
      "-rw-r--r--   2 root supergroup    2855068 2023-09-22 18:30 /user/root/bus-api-parquet/2023-05-20_000000.jsonl.parquet\r\n",
      "-rw-r--r--   2 root supergroup    2392821 2023-09-22 18:30 /user/root/bus-api-parquet/2023-05-20_010000.jsonl.parquet\r\n",
      "-rw-r--r--   2 root supergroup    2318764 2023-09-22 18:30 /user/root/bus-api-parquet/2023-05-20_020000.jsonl.parquet\r\n",
      "-rw-r--r--   2 root supergroup    2463332 2023-09-22 18:30 /user/root/bus-api-parquet/2023-05-20_030000.jsonl.parquet\r\n",
      "-rw-r--r--   2 root supergroup    2965935 2023-09-22 18:30 /user/root/bus-api-parquet/2023-05-20_040000.jsonl.parquet\r\n",
      "-rw-r--r--   2 root supergroup    3695157 2023-09-22 18:30 /user/root/bus-api-parquet/2023-05-20_050000.jsonl.parquet\r\n",
      "-rw-r--r--   2 root supergroup    4171152 2023-09-22 18:30 /user/root/bus-api-parquet/2023-05-20_060000.jsonl.parquet\r\n",
      "-rw-r--r--   2 root supergroup    4346590 2023-09-22 18:30 /user/root/bus-api-parquet/2023-05-20_070000.jsonl.parquet\r\n",
      "-rw-r--r--   2 root supergroup    4495895 2023-09-22 18:30 /user/root/bus-api-parquet/2023-05-20_080000.jsonl.parquet\r\n",
      "-rw-r--r--   2 root supergroup    4525751 2023-09-22 18:30 /user/root/bus-api-parquet/2023-05-20_090000.jsonl.parquet\r\n",
      "-rw-r--r--   2 root supergroup    4309402 2023-09-22 18:30 /user/root/bus-api-parquet/2023-05-20_170000.jsonl.parquet\r\n",
      "-rw-r--r--   2 root supergroup    4259940 2023-09-22 18:30 /user/root/bus-api-parquet/2023-05-20_180000.jsonl.parquet\r\n",
      "-rw-r--r--   2 root supergroup    4233657 2023-09-22 18:30 /user/root/bus-api-parquet/2023-05-20_190000.jsonl.parquet\r\n",
      "-rw-r--r--   2 root supergroup    4013067 2023-09-22 18:30 /user/root/bus-api-parquet/2023-05-20_200000.jsonl.parquet\r\n",
      "-rw-r--r--   2 root supergroup    3647003 2023-09-22 18:30 /user/root/bus-api-parquet/2023-05-20_210000.jsonl.parquet\r\n",
      "-rw-r--r--   2 root supergroup    3226788 2023-09-22 18:30 /user/root/bus-api-parquet/2023-05-20_220000.jsonl.parquet\r\n",
      "-rw-r--r--   2 root supergroup    2837383 2023-09-22 18:30 /user/root/bus-api-parquet/2023-05-20_230000.jsonl.parquet\r\n",
      "-rw-r--r--   2 root supergroup    2456579 2023-09-22 18:30 /user/root/bus-api-parquet/2023-05-21_000000.jsonl.parquet\r\n",
      "-rw-r--r--   2 root supergroup    2187986 2023-09-22 18:30 /user/root/bus-api-parquet/2023-05-21_010000.jsonl.parquet\r\n",
      "-rw-r--r--   2 root supergroup    2077396 2023-09-22 18:30 /user/root/bus-api-parquet/2023-05-21_020000.jsonl.parquet\r\n",
      "-rw-r--r--   2 root supergroup    2083424 2023-09-22 18:30 /user/root/bus-api-parquet/2023-05-21_030000.jsonl.parquet\r\n",
      "-rw-r--r--   2 root supergroup    2434154 2023-09-22 18:30 /user/root/bus-api-parquet/2023-05-21_040000.jsonl.parquet\r\n",
      "-rw-r--r--   2 root supergroup    3047068 2023-09-22 18:30 /user/root/bus-api-parquet/2023-05-21_050000.jsonl.parquet\r\n",
      "-rw-r--r--   2 root supergroup    3404614 2023-09-22 18:30 /user/root/bus-api-parquet/2023-05-21_060000.jsonl.parquet\r\n",
      "-rw-r--r--   2 root supergroup    3500803 2023-09-22 18:30 /user/root/bus-api-parquet/2023-05-21_070000.jsonl.parquet\r\n",
      "-rw-r--r--   2 root supergroup    3580519 2023-09-22 18:30 /user/root/bus-api-parquet/2023-05-21_080000.jsonl.parquet\r\n",
      "-rw-r--r--   2 root supergroup    3629725 2023-09-22 18:30 /user/root/bus-api-parquet/2023-05-21_090000.jsonl.parquet\r\n",
      "-rw-r--r--   2 root supergroup    3588624 2023-09-22 18:30 /user/root/bus-api-parquet/2023-05-21_160000.jsonl.parquet\r\n",
      "-rw-r--r--   2 root supergroup    3564413 2023-09-22 18:30 /user/root/bus-api-parquet/2023-05-21_170000.jsonl.parquet\r\n",
      "-rw-r--r--   2 root supergroup    3605309 2023-09-22 18:30 /user/root/bus-api-parquet/2023-05-21_180000.jsonl.parquet\r\n",
      "-rw-r--r--   2 root supergroup    3567427 2023-09-22 18:30 /user/root/bus-api-parquet/2023-05-21_190000.jsonl.parquet\r\n",
      "-rw-r--r--   2 root supergroup    3373849 2023-09-22 18:30 /user/root/bus-api-parquet/2023-05-21_200000.jsonl.parquet\r\n",
      "-rw-r--r--   2 root supergroup    3041430 2023-09-22 18:30 /user/root/bus-api-parquet/2023-05-21_210000.jsonl.parquet\r\n",
      "-rw-r--r--   2 root supergroup    2795242 2023-09-22 18:30 /user/root/bus-api-parquet/2023-05-21_220000.jsonl.parquet\r\n",
      "-rw-r--r--   2 root supergroup    2548518 2023-09-22 18:30 /user/root/bus-api-parquet/2023-05-21_230000.jsonl.parquet\r\n",
      "-rw-r--r--   2 root supergroup    2298654 2023-09-22 18:30 /user/root/bus-api-parquet/2023-05-22_000000.jsonl.parquet\r\n",
      "-rw-r--r--   2 root supergroup    2139946 2023-09-22 18:30 /user/root/bus-api-parquet/2023-05-22_010000.jsonl.parquet\r\n",
      "-rw-r--r--   2 root supergroup    2126536 2023-09-22 18:30 /user/root/bus-api-parquet/2023-05-22_020000.jsonl.parquet\r\n",
      "-rw-r--r--   2 root supergroup    2543129 2023-09-22 18:30 /user/root/bus-api-parquet/2023-05-22_030000.jsonl.parquet\r\n",
      "-rw-r--r--   2 root supergroup    3619973 2023-09-22 18:30 /user/root/bus-api-parquet/2023-05-22_040000.jsonl.parquet\r\n",
      "-rw-r--r--   2 root supergroup    4788478 2023-09-22 18:30 /user/root/bus-api-parquet/2023-05-22_050000.jsonl.parquet\r\n",
      "-rw-r--r--   2 root supergroup    5329418 2023-09-22 18:30 /user/root/bus-api-parquet/2023-05-22_060000.jsonl.parquet\r\n",
      "-rw-r--r--   2 root supergroup    5219817 2023-09-22 18:30 /user/root/bus-api-parquet/2023-05-22_130000.jsonl.parquet\r\n",
      "-rw-r--r--   2 root supergroup    5241430 2023-09-22 18:30 /user/root/bus-api-parquet/2023-05-22_140000.jsonl.parquet\r\n",
      "-rw-r--r--   2 root supergroup    5305306 2023-09-22 18:30 /user/root/bus-api-parquet/2023-05-22_150000.jsonl.parquet\r\n",
      "-rw-r--r--   2 root supergroup    5514744 2023-09-22 18:30 /user/root/bus-api-parquet/2023-05-22_160000.jsonl.parquet\r\n",
      "-rw-r--r--   2 root supergroup    5552154 2023-09-22 18:30 /user/root/bus-api-parquet/2023-05-22_170000.jsonl.parquet\r\n",
      "-rw-r--r--   2 root supergroup    5488560 2023-09-22 18:30 /user/root/bus-api-parquet/2023-05-22_180000.jsonl.parquet\r\n",
      "-rw-r--r--   2 root supergroup    5421612 2023-09-22 18:30 /user/root/bus-api-parquet/2023-05-22_190000.jsonl.parquet\r\n",
      "-rw-r--r--   2 root supergroup    5138571 2023-09-22 18:30 /user/root/bus-api-parquet/2023-05-22_200000.jsonl.parquet\r\n",
      "-rw-r--r--   2 root supergroup    4593008 2023-09-22 18:30 /user/root/bus-api-parquet/2023-05-22_210000.jsonl.parquet\r\n",
      "-rw-r--r--   2 root supergroup    3968203 2023-09-22 18:30 /user/root/bus-api-parquet/2023-05-22_220000.jsonl.parquet\r\n",
      "-rw-r--r--   2 root supergroup    3367170 2023-09-22 18:30 /user/root/bus-api-parquet/2023-05-22_230000.jsonl.parquet\r\n",
      "-rw-r--r--   2 root supergroup    2773159 2023-09-22 18:30 /user/root/bus-api-parquet/2023-05-23_000000.jsonl.parquet\r\n",
      "-rw-r--r--   2 root supergroup    2394570 2023-09-22 18:30 /user/root/bus-api-parquet/2023-05-23_010000.jsonl.parquet\r\n",
      "-rw-r--r--   2 root supergroup    2336120 2023-09-22 18:30 /user/root/bus-api-parquet/2023-05-23_020000.jsonl.parquet\r\n",
      "-rw-r--r--   2 root supergroup    2602978 2023-09-22 18:30 /user/root/bus-api-parquet/2023-05-23_030000.jsonl.parquet\r\n",
      "-rw-r--r--   2 root supergroup    3656906 2023-09-22 18:30 /user/root/bus-api-parquet/2023-05-23_040000.jsonl.parquet\r\n",
      "-rw-r--r--   2 root supergroup    5405146 2023-09-22 18:30 /user/root/bus-api-parquet/2023-05-23_110000.jsonl.parquet\r\n",
      "-rw-r--r--   2 root supergroup    5356207 2023-09-22 18:30 /user/root/bus-api-parquet/2023-05-23_120000.jsonl.parquet\r\n",
      "-rw-r--r--   2 root supergroup    5297483 2023-09-22 18:30 /user/root/bus-api-parquet/2023-05-23_130000.jsonl.parquet\r\n",
      "-rw-r--r--   2 root supergroup    5297548 2023-09-22 18:30 /user/root/bus-api-parquet/2023-05-23_140000.jsonl.parquet\r\n",
      "-rw-r--r--   2 root supergroup    5399134 2023-09-22 18:30 /user/root/bus-api-parquet/2023-05-23_150000.jsonl.parquet\r\n",
      "-rw-r--r--   2 root supergroup    5497808 2023-09-22 18:30 /user/root/bus-api-parquet/2023-05-23_160000.jsonl.parquet\r\n",
      "-rw-r--r--   2 root supergroup    5569931 2023-09-22 18:30 /user/root/bus-api-parquet/2023-05-23_170000.jsonl.parquet\r\n",
      "-rw-r--r--   2 root supergroup    5495570 2023-09-22 18:30 /user/root/bus-api-parquet/2023-05-23_180000.jsonl.parquet\r\n",
      "-rw-r--r--   2 root supergroup    5466737 2023-09-22 18:30 /user/root/bus-api-parquet/2023-05-23_190000.jsonl.parquet\r\n",
      "-rw-r--r--   2 root supergroup    5253200 2023-09-22 18:30 /user/root/bus-api-parquet/2023-05-23_200000.jsonl.parquet\r\n",
      "-rw-r--r--   2 root supergroup    4723523 2023-09-22 18:30 /user/root/bus-api-parquet/2023-05-23_210000.jsonl.parquet\r\n",
      "-rw-r--r--   2 root supergroup    4107387 2023-09-22 18:30 /user/root/bus-api-parquet/2023-05-23_220000.jsonl.parquet\r\n",
      "-rw-r--r--   2 root supergroup    3431181 2023-09-22 18:30 /user/root/bus-api-parquet/2023-05-23_230000.jsonl.parquet\r\n",
      "-rw-r--r--   2 root supergroup    2805413 2023-09-22 18:30 /user/root/bus-api-parquet/2023-05-24_000000.jsonl.parquet\r\n",
      "-rw-r--r--   2 root supergroup    2394809 2023-09-22 18:30 /user/root/bus-api-parquet/2023-05-24_010000.jsonl.parquet\r\n",
      "-rw-r--r--   2 root supergroup    2333499 2023-09-22 18:30 /user/root/bus-api-parquet/2023-05-24_020000.jsonl.parquet\r\n",
      "-rw-r--r--   2 root supergroup    5435974 2023-09-22 18:30 /user/root/bus-api-parquet/2023-05-24_060000.jsonl.parquet\r\n"
     ]
    }
   ],
   "source": [
    "! hadoop fs -ls /user/root/bus-api-parquet/"
   ]
  },
  {
   "cell_type": "markdown",
   "id": "4f0bd4a8",
   "metadata": {},
   "source": [
    "## lendo arquivos Parquet em único DataFrame"
   ]
  },
  {
   "cell_type": "code",
   "execution_count": 9,
   "id": "c15f5a66",
   "metadata": {},
   "outputs": [],
   "source": [
    "hdfs_src_path = \"/user/root/bus-api-parquet/\""
   ]
  },
  {
   "cell_type": "code",
   "execution_count": 10,
   "id": "6992fcb1",
   "metadata": {},
   "outputs": [],
   "source": [
    "df = spark.read.format(\n",
    "    \"parquet\"\n",
    ").load(\n",
    "    f\"{hdfs_src_path}/*.parquet\"\n",
    ")"
   ]
  },
  {
   "cell_type": "markdown",
   "id": "957c2bc1",
   "metadata": {},
   "source": [
    "#### 75MM de registros"
   ]
  },
  {
   "cell_type": "code",
   "execution_count": 11,
   "id": "647579cf",
   "metadata": {},
   "outputs": [
    {
     "data": {
      "text/plain": [
       "(75212501, 8)"
      ]
     },
     "execution_count": 11,
     "metadata": {},
     "output_type": "execute_result"
    }
   ],
   "source": [
    "shape(df)"
   ]
  },
  {
   "cell_type": "code",
   "execution_count": 12,
   "id": "74fb6561",
   "metadata": {
    "scrolled": true
   },
   "outputs": [
    {
     "name": "stdout",
     "output_type": "stream",
     "text": [
      "root\n",
      " |-- ordem: string (nullable = true)\n",
      " |-- latitude: string (nullable = true)\n",
      " |-- longitude: string (nullable = true)\n",
      " |-- datahora: long (nullable = true)\n",
      " |-- velocidade: long (nullable = true)\n",
      " |-- linha: string (nullable = true)\n",
      " |-- datahoraenvio: long (nullable = true)\n",
      " |-- datahoraservidor: long (nullable = true)\n",
      "\n"
     ]
    }
   ],
   "source": [
    "df.printSchema()"
   ]
  },
  {
   "cell_type": "code",
   "execution_count": 13,
   "id": "93626778",
   "metadata": {},
   "outputs": [],
   "source": [
    "df = df.select(\"ordem\", \"latitude\", \"longitude\", \"velocidade\", \"linha\", \"datahoraservidor\")"
   ]
  },
  {
   "cell_type": "markdown",
   "id": "fc465f81",
   "metadata": {},
   "source": [
    "## calculando o número de veículos únicos"
   ]
  },
  {
   "cell_type": "code",
   "execution_count": 14,
   "id": "39555e83",
   "metadata": {},
   "outputs": [],
   "source": [
    "df_uniq_vehicles = df.select(\"ordem\").distinct()"
   ]
  },
  {
   "cell_type": "code",
   "execution_count": 15,
   "id": "b5e40ec3",
   "metadata": {},
   "outputs": [
    {
     "data": {
      "text/plain": [
       "(3885, 1)"
      ]
     },
     "execution_count": 15,
     "metadata": {},
     "output_type": "execute_result"
    }
   ],
   "source": [
    "shape(df_uniq_vehicles)"
   ]
  },
  {
   "cell_type": "markdown",
   "id": "5a440716",
   "metadata": {},
   "source": [
    "## feature velocidade"
   ]
  },
  {
   "cell_type": "markdown",
   "id": "995164ec",
   "metadata": {},
   "source": [
    "#### média"
   ]
  },
  {
   "cell_type": "code",
   "execution_count": 16,
   "id": "8da1c65f",
   "metadata": {},
   "outputs": [],
   "source": [
    "df_avg_speed = df.filter(\n",
    "    col(\"velocidade\") > 0\n",
    ").groupBy(\n",
    "    \"ordem\"\n",
    ").agg(\n",
    "    avg(col(\"velocidade\")).alias(\"avg_velocidade\")\n",
    ").orderBy(\n",
    "    # col(\"ordem\").asc()\n",
    "    col(\"avg_velocidade\").desc()\n",
    ")"
   ]
  },
  {
   "cell_type": "code",
   "execution_count": 17,
   "id": "e33707a1",
   "metadata": {},
   "outputs": [
    {
     "data": {
      "text/plain": [
       "(3878, 2)"
      ]
     },
     "execution_count": 17,
     "metadata": {},
     "output_type": "execute_result"
    }
   ],
   "source": [
    "shape(df_avg_speed)"
   ]
  },
  {
   "cell_type": "code",
   "execution_count": 18,
   "id": "797d9a92",
   "metadata": {},
   "outputs": [
    {
     "name": "stdout",
     "output_type": "stream",
     "text": [
      "+------+------------------+\n",
      "| ordem|    avg_velocidade|\n",
      "+------+------------------+\n",
      "|B32537| 65.81964615790864|\n",
      "|B44616| 49.35725505595916|\n",
      "|B32623| 48.54131118096093|\n",
      "|B32666| 46.99263664684226|\n",
      "|B44618|45.361522430624106|\n",
      "|B32588| 44.59836229279009|\n",
      "|C47865|44.424344176285416|\n",
      "|C47828| 43.95595290013083|\n",
      "|C47824| 43.69706709521896|\n",
      "|B63107| 43.63815028901734|\n",
      "|C47861| 43.62799740764744|\n",
      "|C27022| 43.56431724767849|\n",
      "|C47656| 42.99435435435436|\n",
      "|C47860| 42.62111197511664|\n",
      "|C47867| 42.58265424912689|\n",
      "|B32548| 42.46973803071364|\n",
      "|A63526|42.175174637291775|\n",
      "|C12015| 41.90256554044581|\n",
      "|C47739|41.731054977711736|\n",
      "|B32668| 41.64514731369151|\n",
      "|B32502| 41.61483198146002|\n",
      "|A29158| 41.59293937068304|\n",
      "|D17513| 41.39940514127895|\n",
      "|A29065| 41.20642102995044|\n",
      "|B63025|41.188235294117646|\n",
      "|D12173| 41.15859247135843|\n",
      "|C47869|41.139361910354275|\n",
      "|A63525|41.051159072741804|\n",
      "|A63515|40.982236842105266|\n",
      "|A50079|40.980530474040634|\n",
      "|A29068|40.956389259188725|\n",
      "|B32558| 40.89928719245803|\n",
      "|C41355| 40.89076699382043|\n",
      "|A29096| 40.85477178423236|\n",
      "|B32506|40.812953238309575|\n",
      "|C27116| 40.74154978155898|\n",
      "|A29006| 40.70862239841427|\n",
      "|D17514| 40.70200099222755|\n",
      "|A29067|40.688416304172705|\n",
      "|D53505|40.559952157878996|\n",
      "|A29138| 40.49272157729869|\n",
      "|A29084|40.481916651367726|\n",
      "|C47872| 40.36039437801552|\n",
      "|A29152| 40.29830445313956|\n",
      "|B31034|40.252263447541274|\n",
      "|C27018|  40.2408818726184|\n",
      "|C47711| 40.23594189315839|\n",
      "|D12175|40.177769171185126|\n",
      "|B32701| 40.17689368397393|\n",
      "|B32562|40.161418439716314|\n",
      "|C47517| 40.15344262295082|\n",
      "|B27050|  40.0002873976146|\n",
      "|A29060| 39.97456380071473|\n",
      "|A63524|39.966556759302875|\n",
      "|C47874| 39.95947843530592|\n",
      "|A29033| 39.94585635359116|\n",
      "|A50026| 39.90756302521008|\n",
      "|C47871|39.847032967032966|\n",
      "|D87894| 39.81799163179916|\n",
      "|D87880| 39.66438062580369|\n",
      "|C47963| 39.61115414407436|\n",
      "|C47995| 39.56750418760469|\n",
      "|C41112| 39.53052426644417|\n",
      "|C12018| 39.51350197459708|\n",
      "|D17512|39.418901951831984|\n",
      "|C47936| 39.41359015516319|\n",
      "|B32602| 39.38535980148883|\n",
      "|C41092|39.376354964590256|\n",
      "|B44661| 39.36201128998537|\n",
      "|A29039| 39.25745095102591|\n",
      "|D87833| 39.24292682926829|\n",
      "|D53697| 39.22735191637631|\n",
      "|C12004| 39.22513351134847|\n",
      "|B63005|39.225107247685706|\n",
      "|A29077| 39.20440315087861|\n",
      "|A29092| 39.19004524886878|\n",
      "|C12005| 39.18965313128921|\n",
      "|B32631| 39.12232204561161|\n",
      "|C47863| 39.12090447623442|\n",
      "|B32699| 39.11826731262468|\n",
      "|B28559| 39.11138594111546|\n",
      "|C47958| 39.05421903052065|\n",
      "|C12028| 39.04386980573781|\n",
      "|A29106|  39.0184769469867|\n",
      "|C41384|38.985471451402006|\n",
      "|B44556| 38.88858421936206|\n",
      "|C47944|  38.8816120906801|\n",
      "|A29080| 38.82290645224554|\n",
      "|A29018| 38.82165039929015|\n",
      "|D17516| 38.75459788878006|\n",
      "|C47886| 38.74886812445814|\n",
      "|C12020| 38.68725911243255|\n",
      "|A29064| 38.63146385387188|\n",
      "|C47490|38.630960344003825|\n",
      "|D12176| 38.62828784119107|\n",
      "|A29041| 38.56892230576441|\n",
      "|B31134| 38.56262626262626|\n",
      "|C47948| 38.54994667614646|\n",
      "|D12164|38.543649373881934|\n",
      "|C41371| 38.52360011726766|\n",
      "+------+------------------+\n",
      "only showing top 100 rows\n",
      "\n"
     ]
    }
   ],
   "source": [
    "df_avg_speed.show(100)"
   ]
  },
  {
   "cell_type": "markdown",
   "id": "b078186b",
   "metadata": {},
   "source": [
    "#### moda"
   ]
  },
  {
   "cell_type": "code",
   "execution_count": 19,
   "id": "8fb6d5c9",
   "metadata": {},
   "outputs": [],
   "source": [
    "df_mode_speed_pre = df.filter(\n",
    "    col(\"velocidade\") > 0\n",
    ").groupBy(\n",
    "    \"ordem\", \"velocidade\"\n",
    ").agg(\n",
    "    count(col(\"velocidade\")).alias(\"count_velocidade\")\n",
    ").orderBy(\n",
    "    col(\"ordem\").asc()\n",
    ")"
   ]
  },
  {
   "cell_type": "code",
   "execution_count": 20,
   "id": "09ecdf89",
   "metadata": {},
   "outputs": [
    {
     "data": {
      "text/plain": [
       "(265773, 3)"
      ]
     },
     "execution_count": 20,
     "metadata": {},
     "output_type": "execute_result"
    }
   ],
   "source": [
    "shape(df_mode_speed_pre)"
   ]
  },
  {
   "cell_type": "code",
   "execution_count": 21,
   "id": "30d4acf8",
   "metadata": {},
   "outputs": [],
   "source": [
    "window_by_ordem = Window.partitionBy(\"ordem\").orderBy(col(\"count_velocidade\").desc())"
   ]
  },
  {
   "cell_type": "code",
   "execution_count": 22,
   "id": "d4a5a32f",
   "metadata": {},
   "outputs": [],
   "source": [
    "df_mode_speed = df_mode_speed_pre.withColumn(\n",
    "    \"row_number\", row_number().over(window_by_ordem)\n",
    ").filter(\n",
    "    # col(\"row_number\").isin(1, 2, 3)\n",
    "    # ((col(\"row_number\") == 2) | (col(\"row_number\") == 1))\n",
    "    col(\"row_number\") == 1\n",
    ").orderBy(\n",
    "    # col(\"ordem\").asc(), col(\"row_number\").asc()\n",
    "    col(\"velocidade\").desc()\n",
    ")"
   ]
  },
  {
   "cell_type": "code",
   "execution_count": 23,
   "id": "8dd37d02",
   "metadata": {},
   "outputs": [
    {
     "data": {
      "text/plain": [
       "(3878, 4)"
      ]
     },
     "execution_count": 23,
     "metadata": {},
     "output_type": "execute_result"
    }
   ],
   "source": [
    "shape(df_mode_speed)"
   ]
  },
  {
   "cell_type": "code",
   "execution_count": 24,
   "id": "524d0c31",
   "metadata": {},
   "outputs": [
    {
     "name": "stdout",
     "output_type": "stream",
     "text": [
      "+------+----------+----------------+----------+\n",
      "| ordem|velocidade|count_velocidade|row_number|\n",
      "+------+----------+----------------+----------+\n",
      "|B32537|        96|            1702|         1|\n",
      "|D12113|        83|             136|         1|\n",
      "|B32805|        81|             327|         1|\n",
      "|B32502|        81|             169|         1|\n",
      "|B32803|        81|             252|         1|\n",
      "|D53505|        81|             299|         1|\n",
      "|D87826|        81|             374|         1|\n",
      "|C41092|        80|             128|         1|\n",
      "|C41112|        79|             177|         1|\n",
      "|D53912|        79|             205|         1|\n",
      "|B32806|        79|             161|         1|\n",
      "|C41355|        79|             173|         1|\n",
      "|B32802|        79|             265|         1|\n",
      "|D53916|        78|             281|         1|\n",
      "|D53930|        78|             237|         1|\n",
      "|C41325|        78|             196|         1|\n",
      "|B31132|        78|              87|         1|\n",
      "|B32801|        78|             120|         1|\n",
      "|B31134|        78|              58|         1|\n",
      "|D53925|        78|             126|         1|\n",
      "|D53924|        78|             205|         1|\n",
      "|D53929|        78|             219|         1|\n",
      "|D53923|        78|             224|         1|\n",
      "|D53902|        77|             161|         1|\n",
      "|D12118|        77|             195|         1|\n",
      "|D53920|        77|             193|         1|\n",
      "|B31113|        77|              42|         1|\n",
      "|D53915|        77|             226|         1|\n",
      "|B32623|        77|             206|         1|\n",
      "|C41265|        77|             152|         1|\n",
      "|A41053|        75|             180|         1|\n",
      "|B31114|        73|              52|         1|\n",
      "|D13016|        73|             234|         1|\n",
      "|C47739|        73|             192|         1|\n",
      "|D13002|        73|             289|         1|\n",
      "|B44661|        72|             298|         1|\n",
      "|C47760|        72|             265|         1|\n",
      "|C47891|        72|             310|         1|\n",
      "|C47494|        71|             243|         1|\n",
      "|C47656|        71|             406|         1|\n",
      "|C47552|        71|             190|         1|\n",
      "|D86722|        70|             242|         1|\n",
      "|C47462|        70|             148|         1|\n",
      "|D86719|        70|             247|         1|\n",
      "|D86715|        70|             226|         1|\n",
      "|D13365|        70|             257|         1|\n",
      "|C47490|        70|             315|         1|\n",
      "|C47481|        70|             267|         1|\n",
      "|C47492|        70|             359|         1|\n",
      "|C47524|        70|             361|         1|\n",
      "|D86748|        70|             217|         1|\n",
      "|D86740|        70|             179|         1|\n",
      "|C47764|        70|             369|         1|\n",
      "|A41019|        70|             132|         1|\n",
      "|D13305|        70|             444|         1|\n",
      "|C47472|        70|             252|         1|\n",
      "|C47537|        70|             259|         1|\n",
      "|B63107|        70|             334|         1|\n",
      "|C47713|        70|             256|         1|\n",
      "|C47860|        70|             174|         1|\n",
      "|C47869|        70|             197|         1|\n",
      "|C47895|        70|             398|         1|\n",
      "|C47711|        69|             322|         1|\n",
      "|C30258|        69|               6|         1|\n",
      "|C47937|        69|              97|         1|\n",
      "|C47928|        69|             145|         1|\n",
      "|C41380|        69|             184|         1|\n",
      "|A41166|        69|             114|         1|\n",
      "|C47650|        69|             397|         1|\n",
      "|C47796|        69|             223|         1|\n",
      "|A41261|        69|             195|         1|\n",
      "|C47963|        69|             113|         1|\n",
      "|D13362|        69|             409|         1|\n",
      "|B63025|        69|             142|         1|\n",
      "|D13301|        69|             340|         1|\n",
      "|A50026|        69|              72|         1|\n",
      "|B63042|        69|             334|         1|\n",
      "|C47944|        69|              89|         1|\n",
      "|A63526|        69|             244|         1|\n",
      "|A41065|        68|             285|         1|\n",
      "|B32506|        68|             142|         1|\n",
      "|D86713|        68|             400|         1|\n",
      "|D13236|        68|             375|         1|\n",
      "|C41339|        68|             186|         1|\n",
      "|D86700|        68|             305|         1|\n",
      "|D13292|        68|             398|         1|\n",
      "|A41442|        68|             186|         1|\n",
      "|D13281|        68|             408|         1|\n",
      "|D13257|        68|             699|         1|\n",
      "|D86702|        68|             304|         1|\n",
      "|C47995|        68|             119|         1|\n",
      "|D13199|        68|             157|         1|\n",
      "|D53514|        68|             165|         1|\n",
      "|B63006|        68|            1156|         1|\n",
      "|D13245|        68|             349|         1|\n",
      "|D13280|        68|             297|         1|\n",
      "|B63039|        68|             601|         1|\n",
      "|D13190|        68|             520|         1|\n",
      "|D53682|        68|             559|         1|\n",
      "|B63034|        68|             850|         1|\n",
      "+------+----------+----------------+----------+\n",
      "only showing top 100 rows\n",
      "\n"
     ]
    }
   ],
   "source": [
    "df_mode_speed.show(100)"
   ]
  },
  {
   "cell_type": "markdown",
   "id": "a3673fef",
   "metadata": {},
   "source": [
    "#### mediana"
   ]
  },
  {
   "cell_type": "code",
   "execution_count": 25,
   "id": "003c7309",
   "metadata": {},
   "outputs": [],
   "source": [
    "# amostra de tamanho ímpar\n",
    "vel = [0, 34, 67, 98, 100]\n",
    "# amostra de tamanho = len(vel) = 5\n",
    "# mediana = posicao do meio = vel[len(vel) // 2] = 67"
   ]
  },
  {
   "cell_type": "code",
   "execution_count": 26,
   "id": "38add91b",
   "metadata": {},
   "outputs": [
    {
     "data": {
      "text/plain": [
       "2"
      ]
     },
     "execution_count": 26,
     "metadata": {},
     "output_type": "execute_result"
    }
   ],
   "source": [
    "5//2"
   ]
  },
  {
   "cell_type": "code",
   "execution_count": 27,
   "id": "37e3d226",
   "metadata": {},
   "outputs": [
    {
     "data": {
      "text/plain": [
       "67"
      ]
     },
     "execution_count": 27,
     "metadata": {},
     "output_type": "execute_result"
    }
   ],
   "source": [
    "vel[len(vel) // 2]"
   ]
  },
  {
   "cell_type": "code",
   "execution_count": 28,
   "id": "33eae60a",
   "metadata": {},
   "outputs": [],
   "source": [
    "# amostra de tamanho par\n",
    "vel = [0, 34, 52, 67, 98, 100]\n",
    "# mediana = (52 + 67) / 2 = 59.5"
   ]
  },
  {
   "cell_type": "code",
   "execution_count": 29,
   "id": "cb4d20f4",
   "metadata": {},
   "outputs": [],
   "source": [
    "# median = expr(\"percentile_approx(velocidade, 0.5)\")"
   ]
  },
  {
   "cell_type": "code",
   "execution_count": 30,
   "id": "9908a06a",
   "metadata": {},
   "outputs": [],
   "source": [
    "# df_median_speed = df.filter(\n",
    "#     col(\"velocidade\") > 0\n",
    "# ).groupBy(\n",
    "#     \"ordem\"\n",
    "# ).agg(\n",
    "#     median.alias(\"median_velocidade\")\n",
    "# ).orderBy(\n",
    "#     # col(\"ordem\").asc()\n",
    "#     col(\"median_velocidade\").desc()\n",
    "# )"
   ]
  },
  {
   "cell_type": "code",
   "execution_count": 31,
   "id": "79e02101",
   "metadata": {},
   "outputs": [],
   "source": [
    "# shape(df_median_speed)"
   ]
  },
  {
   "cell_type": "code",
   "execution_count": 32,
   "id": "815efc7e",
   "metadata": {},
   "outputs": [],
   "source": [
    "# df_median_speed.show(100)"
   ]
  },
  {
   "cell_type": "markdown",
   "id": "60d25336",
   "metadata": {},
   "source": [
    "## feature período circulação"
   ]
  },
  {
   "cell_type": "code",
   "execution_count": 33,
   "id": "71a86a7a",
   "metadata": {},
   "outputs": [],
   "source": [
    "df_period_pre = df.filter(\n",
    "    col(\"velocidade\") > 0\n",
    ").withColumn(\n",
    "    \"dt_wrong\", from_unixtime(col(\"datahoraservidor\"), \"yyyy-MM-dd HH:mm:ss\")\n",
    ").withColumn(\n",
    "    \"dt\", from_unixtime(floor(col(\"datahoraservidor\") / 1000), \"yyyy-MM-dd HH:mm:ss\")\n",
    ").withColumn(\n",
    "    \"hora\", from_unixtime(floor(col(\"datahoraservidor\") / 1000), \"HHmm\").cast(\"int\")\n",
    ").withColumn(\n",
    "    \"periodo\",\n",
    "    expr(\n",
    "        \"\"\"\n",
    "        case\n",
    "        when hora >= 0 and hora <= 559 then 'Madrugada'\n",
    "        when hora >= 600 and hora <= 1159 then 'Manhã'\n",
    "        when hora >= 1200 and hora <= 1759 then 'Tarde'\n",
    "        when hora >= 1800 and hora <= 2359 then 'Noite'\n",
    "        else 'Erro'\n",
    "        end\n",
    "        \"\"\"\n",
    "    )\n",
    ").select(\"ordem\", \"latitude\", \"longitude\", \"velocidade\", \"linha\", \"dt_wrong\", \"dt\", \"hora\", \"periodo\")"
   ]
  },
  {
   "cell_type": "code",
   "execution_count": 34,
   "id": "61816faf",
   "metadata": {},
   "outputs": [],
   "source": [
    "df_period_pre_2 = df_period_pre.groupBy(\n",
    "    \"ordem\", \"periodo\"\n",
    ").agg(\n",
    "    count(col(\"periodo\")).alias(\"count_periodo\")\n",
    ").orderBy(\n",
    "    col(\"ordem\").desc()\n",
    ")"
   ]
  },
  {
   "cell_type": "code",
   "execution_count": 35,
   "id": "47ccb824",
   "metadata": {},
   "outputs": [],
   "source": [
    "# veiculo: D87893\n",
    "# Madrugada 194\n",
    "# Manhã     1458\n",
    "# Tarde     1499\n",
    "# Noite     1328\n",
    "\n",
    "instances = [194, 1458, 1499, 1328]"
   ]
  },
  {
   "cell_type": "code",
   "execution_count": 36,
   "id": "9d8d4c06",
   "metadata": {},
   "outputs": [],
   "source": [
    "percent_instances = [i / sum(instances) for i in instances]"
   ]
  },
  {
   "cell_type": "code",
   "execution_count": 37,
   "id": "7a195412",
   "metadata": {},
   "outputs": [
    {
     "data": {
      "text/plain": [
       "[0.04331323956240232,\n",
       " 0.32551908908238447,\n",
       " 0.33467291806206745,\n",
       " 0.2964947532931458]"
      ]
     },
     "execution_count": 37,
     "metadata": {},
     "output_type": "execute_result"
    }
   ],
   "source": [
    "percent_instances"
   ]
  },
  {
   "cell_type": "code",
   "execution_count": 38,
   "id": "005c90b9",
   "metadata": {},
   "outputs": [],
   "source": [
    "window_by_ordem = Window.partitionBy(\"ordem\").orderBy(col(\"count_periodo\").desc())"
   ]
  },
  {
   "cell_type": "code",
   "execution_count": 39,
   "id": "546a1382",
   "metadata": {},
   "outputs": [],
   "source": [
    "df_period = df_period_pre_2.withColumn(\n",
    "    \"row_number\", row_number().over(window_by_ordem)\n",
    ").filter(\n",
    "    col(\"row_number\") == 1\n",
    ").orderBy(\n",
    "    col(\"ordem\").asc()\n",
    ")"
   ]
  },
  {
   "cell_type": "code",
   "execution_count": 40,
   "id": "c869063f",
   "metadata": {},
   "outputs": [
    {
     "name": "stdout",
     "output_type": "stream",
     "text": [
      "+------+---------+-------------+----------+\n",
      "| ordem|  periodo|count_periodo|row_number|\n",
      "+------+---------+-------------+----------+\n",
      "| 29107|    Noite|         3329|         1|\n",
      "|     A|    Tarde|         2627|         1|\n",
      "|A27509|    Noite|         1642|         1|\n",
      "|A27515|    Noite|         2600|         1|\n",
      "|A27517|    Tarde|         2334|         1|\n",
      "|A27522|    Noite|         2444|         1|\n",
      "|A27537|    Noite|         2711|         1|\n",
      "|A27544|    Noite|         3128|         1|\n",
      "|A27556|    Noite|         2338|         1|\n",
      "|A27559|    Noite|         2780|         1|\n",
      "|A27560|    Noite|         2636|         1|\n",
      "|A27565|    Manhã|         2667|         1|\n",
      "|A27567|    Noite|         2372|         1|\n",
      "|A27571|    Noite|         2741|         1|\n",
      "|A27574|    Noite|         3033|         1|\n",
      "|A27582|    Noite|         2903|         1|\n",
      "|A27588|    Noite|         2792|         1|\n",
      "|A27589|    Noite|         2506|         1|\n",
      "|A27594|    Noite|         2588|         1|\n",
      "|A27597|    Manhã|         3039|         1|\n",
      "|A27606|    Noite|         2858|         1|\n",
      "|A27611|    Noite|         2950|         1|\n",
      "|A27615|    Manhã|         3126|         1|\n",
      "|A27616|    Noite|         2785|         1|\n",
      "|A27617|Madrugada|         3140|         1|\n",
      "|A27632|    Noite|         2631|         1|\n",
      "|A27640|    Noite|          836|         1|\n",
      "|A27651|Madrugada|         2831|         1|\n",
      "|A27652|    Noite|          211|         1|\n",
      "|A27660|    Noite|         2813|         1|\n",
      "|A27669|    Noite|         3108|         1|\n",
      "|A27670|    Tarde|         1725|         1|\n",
      "|A27674|    Noite|         2474|         1|\n",
      "|A27679|    Noite|         2672|         1|\n",
      "|A27680|    Noite|         2925|         1|\n",
      "|A27682|    Noite|         3031|         1|\n",
      "|A27683|    Noite|         3292|         1|\n",
      "|A27684|    Noite|         2747|         1|\n",
      "|A29002|    Tarde|         2922|         1|\n",
      "|A29003|    Manhã|         2843|         1|\n",
      "|A29004|    Noite|         2723|         1|\n",
      "|A29005|    Noite|         2483|         1|\n",
      "|A29006|    Noite|         2295|         1|\n",
      "|A29007|    Noite|         3032|         1|\n",
      "|A29009|    Tarde|         1508|         1|\n",
      "|A29010|    Noite|         2396|         1|\n",
      "|A29011|    Tarde|         2969|         1|\n",
      "|A29012|    Noite|         3187|         1|\n",
      "|A29013|    Noite|         3950|         1|\n",
      "|A29014|    Noite|         3055|         1|\n",
      "|A29015|    Noite|         3253|         1|\n",
      "|A29016|Madrugada|          155|         1|\n",
      "|A29017|    Tarde|         2837|         1|\n",
      "|A29018|    Noite|         2332|         1|\n",
      "|A29019|    Tarde|         2852|         1|\n",
      "|A29021|    Tarde|         3063|         1|\n",
      "|A29023|    Tarde|         2515|         1|\n",
      "|A29024|    Noite|         2373|         1|\n",
      "|A29025|    Tarde|         3220|         1|\n",
      "|A29026|    Tarde|         2555|         1|\n",
      "|A29029|    Noite|         3258|         1|\n",
      "|A29030|    Noite|         3456|         1|\n",
      "|A29031|    Noite|         2678|         1|\n",
      "|A29032|    Noite|         3729|         1|\n",
      "|A29033|    Noite|         2035|         1|\n",
      "|A29035|    Tarde|         2269|         1|\n",
      "|A29036|    Noite|         3596|         1|\n",
      "|A29037|    Noite|         2532|         1|\n",
      "|A29038|    Tarde|         2786|         1|\n",
      "|A29039|    Noite|         3228|         1|\n",
      "|A29041|    Noite|         2148|         1|\n",
      "|A29045|    Noite|         2890|         1|\n",
      "|A29046|    Noite|         3325|         1|\n",
      "|A29047|    Tarde|         2992|         1|\n",
      "|A29048|    Tarde|         2764|         1|\n",
      "|A29051|    Noite|         3415|         1|\n",
      "|A29053|    Noite|         3422|         1|\n",
      "|A29054|    Tarde|         2478|         1|\n",
      "|A29055|    Noite|         3494|         1|\n",
      "|A29057|    Tarde|         2923|         1|\n",
      "|A29059|    Noite|         2438|         1|\n",
      "|A29060|    Noite|         2375|         1|\n",
      "|A29061|    Noite|         2780|         1|\n",
      "|A29064|    Noite|         3143|         1|\n",
      "|A29065|    Manhã|         1984|         1|\n",
      "|A29066|    Noite|         3057|         1|\n",
      "|A29067|    Noite|         3324|         1|\n",
      "|A29068|    Noite|         2655|         1|\n",
      "|A29069|    Noite|         2893|         1|\n",
      "|A29070|    Noite|         3226|         1|\n",
      "|A29073|    Noite|         2330|         1|\n",
      "|A29075|    Noite|         3406|         1|\n",
      "|A29076|    Tarde|         2782|         1|\n",
      "|A29077|    Noite|         2517|         1|\n",
      "|A29078|    Tarde|         2963|         1|\n",
      "|A29080|    Noite|         2436|         1|\n",
      "|A29081|    Noite|         3421|         1|\n",
      "|A29082|    Noite|         3299|         1|\n",
      "|A29083|    Noite|         3529|         1|\n",
      "|A29084|    Noite|         3140|         1|\n",
      "+------+---------+-------------+----------+\n",
      "only showing top 100 rows\n",
      "\n"
     ]
    }
   ],
   "source": [
    "df_period.show(100)"
   ]
  },
  {
   "cell_type": "markdown",
   "id": "ab9d0bd3",
   "metadata": {},
   "source": [
    "## montagem Matriz de Features"
   ]
  },
  {
   "cell_type": "code",
   "execution_count": 41,
   "id": "7283bed7",
   "metadata": {},
   "outputs": [],
   "source": [
    "df_features_1 = df_uniq_vehicles.join(\n",
    "    df_avg_speed, df_uniq_vehicles.ordem == df_avg_speed.ordem, \"left\"\n",
    ").select(\n",
    "    df_uniq_vehicles.ordem, col(\"avg_velocidade\")\n",
    ").join(\n",
    "    df_period, df_uniq_vehicles.ordem == df_period.ordem, \"left\"\n",
    ").select(\n",
    "    df_uniq_vehicles.ordem, col(\"avg_velocidade\"), col(\"periodo\")\n",
    ")"
   ]
  },
  {
   "cell_type": "code",
   "execution_count": 42,
   "id": "41fb9332",
   "metadata": {},
   "outputs": [],
   "source": [
    "# ordem | baixa | moderada | alta | madrugada | manha | tarde | noite"
   ]
  },
  {
   "cell_type": "code",
   "execution_count": 43,
   "id": "ad7b7552",
   "metadata": {},
   "outputs": [],
   "source": [
    "df_features = df_features_1.withColumn(\n",
    "    \"baixa\",\n",
    "    when(col(\"avg_velocidade\") <= 30, 1).otherwise(0)\n",
    ").withColumn(\n",
    "    \"moderada\",\n",
    "    expr(\"case when avg_velocidade > 30 and avg_velocidade <= 60 then 1 else 0 end\")\n",
    ").withColumn(\n",
    "    \"alta\",\n",
    "    when(col(\"avg_velocidade\") > 60, 1).otherwise(0)\n",
    ").withColumn(\n",
    "    \"madrugada\",\n",
    "    when(col(\"periodo\") == \"Madrugada\", 1).otherwise(0)\n",
    ").withColumn(\n",
    "    \"manha\",\n",
    "    when(col(\"periodo\") == \"Manhã\", 1).otherwise(0)\n",
    ").withColumn(\n",
    "    \"tarde\",\n",
    "    when(col(\"periodo\") == \"Tarde\", 1).otherwise(0)\n",
    ").withColumn(\n",
    "    \"noite\",\n",
    "    when(col(\"periodo\") == \"Noite\", 1).otherwise(0)\n",
    ").select(\n",
    "    \"ordem\", \"baixa\", \"moderada\", \"alta\", \"madrugada\", \"manha\", \"tarde\", \"noite\"\n",
    ")"
   ]
  },
  {
   "cell_type": "code",
   "execution_count": 44,
   "id": "327e5f43",
   "metadata": {},
   "outputs": [
    {
     "name": "stdout",
     "output_type": "stream",
     "text": [
      "root\n",
      " |-- ordem: string (nullable = true)\n",
      " |-- baixa: integer (nullable = false)\n",
      " |-- moderada: integer (nullable = false)\n",
      " |-- alta: integer (nullable = false)\n",
      " |-- madrugada: integer (nullable = false)\n",
      " |-- manha: integer (nullable = false)\n",
      " |-- tarde: integer (nullable = false)\n",
      " |-- noite: integer (nullable = false)\n",
      "\n"
     ]
    }
   ],
   "source": [
    "df_features.printSchema()"
   ]
  },
  {
   "cell_type": "code",
   "execution_count": 45,
   "id": "a8cf3441",
   "metadata": {},
   "outputs": [
    {
     "name": "stdout",
     "output_type": "stream",
     "text": [
      "+------+-----+--------+----+---------+-----+-----+-----+\n",
      "| ordem|baixa|moderada|alta|madrugada|manha|tarde|noite|\n",
      "+------+-----+--------+----+---------+-----+-----+-----+\n",
      "|A41017|    1|       0|   0|        0|    0|    0|    1|\n",
      "|A41140|    0|       1|   0|        0|    1|    0|    0|\n",
      "|A41179|    0|       1|   0|        0|    0|    0|    1|\n",
      "|A48130|    1|       0|   0|        0|    0|    0|    1|\n",
      "|A50019|    1|       0|   0|        0|    0|    1|    0|\n",
      "|A72062|    1|       0|   0|        0|    0|    0|    1|\n",
      "|B10550|    1|       0|   0|        0|    0|    1|    0|\n",
      "|B11580|    1|       0|   0|        0|    0|    0|    1|\n",
      "|B25529|    1|       0|   0|        0|    0|    0|    1|\n",
      "|B27144|    1|       0|   0|        0|    0|    0|    1|\n",
      "|B32501|    1|       0|   0|        0|    1|    0|    0|\n",
      "|B32526|    1|       0|   0|        0|    0|    1|    0|\n",
      "|B58031|    1|       0|   0|        0|    0|    0|    1|\n",
      "|B58132|    1|       0|   0|        0|    0|    1|    0|\n",
      "|B63038|    0|       1|   0|        0|    0|    1|    0|\n",
      "|B63077|    1|       0|   0|        0|    0|    0|    1|\n",
      "|C27069|    1|       0|   0|        0|    0|    1|    0|\n",
      "|C30105|    1|       0|   0|        0|    0|    1|    0|\n",
      "|C44655|    1|       0|   0|        0|    0|    0|    1|\n",
      "|C47748|    0|       1|   0|        0|    0|    0|    1|\n",
      "|C47964|    0|       1|   0|        0|    0|    0|    1|\n",
      "|D12159|    0|       1|   0|        0|    0|    0|    1|\n",
      "|D87127|    1|       0|   0|        0|    0|    0|    1|\n",
      "|A50049|    0|       1|   0|        0|    0|    1|    0|\n",
      "|A50153|    1|       0|   0|        0|    0|    1|    0|\n",
      "|B10004|    1|       0|   0|        0|    0|    0|    1|\n",
      "|B11557|    1|       0|   0|        0|    0|    0|    1|\n",
      "|B11584|    1|       0|   0|        0|    0|    0|    1|\n",
      "|B25582|    1|       0|   0|        0|    0|    0|    1|\n",
      "|B28507|    0|       1|   0|        0|    0|    0|    1|\n",
      "|B32708|    1|       0|   0|        0|    0|    0|    1|\n",
      "|B44600|    1|       0|   0|        0|    0|    0|    1|\n",
      "|B51505|    1|       0|   0|        0|    1|    0|    0|\n",
      "|B51549|    1|       0|   0|        0|    0|    0|    1|\n",
      "|B58016|    1|       0|   0|        0|    0|    1|    0|\n",
      "|B71154|    1|       0|   0|        0|    0|    0|    1|\n",
      "|C12520|    1|       0|   0|        0|    0|    1|    0|\n",
      "|C27089|    1|       0|   0|        0|    0|    1|    0|\n",
      "|C27093|    1|       0|   0|        0|    0|    0|    1|\n",
      "|C30010|    1|       0|   0|        0|    0|    1|    0|\n",
      "|C30209|    1|       0|   0|        0|    0|    1|    0|\n",
      "|C44531|    1|       0|   0|        0|    0|    0|    1|\n",
      "|C47516|    0|       1|   0|        0|    0|    0|    1|\n",
      "|C47710|    1|       0|   0|        0|    0|    1|    0|\n",
      "|C47745|    0|       1|   0|        0|    0|    0|    1|\n",
      "|C50175|    0|       1|   0|        0|    1|    0|    0|\n",
      "|D13202|    1|       0|   0|        0|    0|    0|    1|\n",
      "|D13263|    1|       0|   0|        0|    1|    0|    0|\n",
      "|D13278|    1|       0|   0|        0|    0|    0|    1|\n",
      "|D17113|    1|       0|   0|        0|    1|    0|    0|\n",
      "+------+-----+--------+----+---------+-----+-----+-----+\n",
      "only showing top 50 rows\n",
      "\n"
     ]
    }
   ],
   "source": [
    "df_features.show(50)"
   ]
  },
  {
   "cell_type": "markdown",
   "id": "477cfff5",
   "metadata": {},
   "source": [
    "## inicio Clusterização"
   ]
  },
  {
   "cell_type": "code",
   "execution_count": 46,
   "id": "399ef263",
   "metadata": {},
   "outputs": [
    {
     "name": "stdout",
     "output_type": "stream",
     "text": [
      "Requirement already satisfied: scikit-learn in /usr/local/lib/python3.6/dist-packages (0.24.2)\n",
      "Collecting seaborn\n",
      "  Downloading seaborn-0.11.2-py3-none-any.whl (292 kB)\n",
      "     |################################| 292 kB 4.2 MB/s            \n",
      "\u001b[?25hRequirement already satisfied: scipy>=0.19.1 in /usr/local/lib/python3.6/dist-packages (from scikit-learn) (1.5.4)\n",
      "Requirement already satisfied: threadpoolctl>=2.0.0 in /usr/local/lib/python3.6/dist-packages (from scikit-learn) (3.1.0)\n",
      "Requirement already satisfied: numpy>=1.13.3 in /usr/local/lib/python3.6/dist-packages (from scikit-learn) (1.19.5)\n",
      "Requirement already satisfied: joblib>=0.11 in /usr/local/lib/python3.6/dist-packages (from scikit-learn) (1.1.1)\n",
      "Requirement already satisfied: matplotlib>=2.2 in /usr/local/lib/python3.6/dist-packages (from seaborn) (3.3.4)\n",
      "Requirement already satisfied: pandas>=0.23 in /usr/local/lib/python3.6/dist-packages (from seaborn) (1.1.5)\n",
      "Requirement already satisfied: pillow>=6.2.0 in /usr/local/lib/python3.6/dist-packages (from matplotlib>=2.2->seaborn) (8.4.0)\n",
      "Requirement already satisfied: kiwisolver>=1.0.1 in /usr/local/lib/python3.6/dist-packages (from matplotlib>=2.2->seaborn) (1.3.1)\n",
      "Requirement already satisfied: python-dateutil>=2.1 in /usr/local/lib/python3.6/dist-packages (from matplotlib>=2.2->seaborn) (2.8.2)\n",
      "Requirement already satisfied: pyparsing!=2.0.4,!=2.1.2,!=2.1.6,>=2.0.3 in /usr/local/lib/python3.6/dist-packages (from matplotlib>=2.2->seaborn) (3.1.1)\n",
      "Requirement already satisfied: cycler>=0.10 in /usr/local/lib/python3.6/dist-packages (from matplotlib>=2.2->seaborn) (0.11.0)\n",
      "Requirement already satisfied: pytz>=2017.2 in /usr/local/lib/python3.6/dist-packages (from pandas>=0.23->seaborn) (2023.3.post1)\n",
      "Requirement already satisfied: six>=1.5 in /usr/lib/python3/dist-packages (from python-dateutil>=2.1->matplotlib>=2.2->seaborn) (1.11.0)\n",
      "Installing collected packages: seaborn\n",
      "Successfully installed seaborn-0.11.2\n",
      "\u001b[33mWARNING: Running pip as the 'root' user can result in broken permissions and conflicting behaviour with the system package manager. It is recommended to use a virtual environment instead: https://pip.pypa.io/warnings/venv\u001b[0m\n"
     ]
    }
   ],
   "source": [
    "! pip install scikit-learn seaborn"
   ]
  },
  {
   "cell_type": "code",
   "execution_count": 47,
   "id": "5686f3d0",
   "metadata": {},
   "outputs": [],
   "source": [
    "import seaborn as sns"
   ]
  },
  {
   "cell_type": "code",
   "execution_count": 48,
   "id": "10a7db23",
   "metadata": {},
   "outputs": [],
   "source": [
    "dff = df_features.toPandas()"
   ]
  },
  {
   "cell_type": "code",
   "execution_count": 49,
   "id": "849aeff7",
   "metadata": {},
   "outputs": [
    {
     "data": {
      "text/plain": [
       "(3885, 8)"
      ]
     },
     "execution_count": 49,
     "metadata": {},
     "output_type": "execute_result"
    }
   ],
   "source": [
    "dff.shape"
   ]
  },
  {
   "cell_type": "code",
   "execution_count": 50,
   "id": "7a3aad51",
   "metadata": {},
   "outputs": [],
   "source": [
    "from sklearn.manifold import TSNE"
   ]
  },
  {
   "cell_type": "code",
   "execution_count": 51,
   "id": "bf82b6ca",
   "metadata": {},
   "outputs": [],
   "source": [
    "dff[\"id\"] = dff.index"
   ]
  },
  {
   "cell_type": "code",
   "execution_count": 52,
   "id": "82947896",
   "metadata": {},
   "outputs": [
    {
     "data": {
      "text/plain": [
       "Index(['ordem', 'baixa', 'moderada', 'alta', 'madrugada', 'manha', 'tarde',\n",
       "       'noite', 'id'],\n",
       "      dtype='object')"
      ]
     },
     "execution_count": 52,
     "metadata": {},
     "output_type": "execute_result"
    }
   ],
   "source": [
    "dff.columns"
   ]
  },
  {
   "cell_type": "code",
   "execution_count": 59,
   "id": "156d6b69",
   "metadata": {},
   "outputs": [],
   "source": [
    "dff_features = dff[[\"baixa\", \"moderada\", \"alta\", \"madrugada\", \"manha\", \"tarde\", \"noite\"]]"
   ]
  },
  {
   "cell_type": "code",
   "execution_count": 60,
   "id": "7dc518d0",
   "metadata": {},
   "outputs": [
    {
     "data": {
      "text/html": [
       "<div>\n",
       "<style scoped>\n",
       "    .dataframe tbody tr th:only-of-type {\n",
       "        vertical-align: middle;\n",
       "    }\n",
       "\n",
       "    .dataframe tbody tr th {\n",
       "        vertical-align: top;\n",
       "    }\n",
       "\n",
       "    .dataframe thead th {\n",
       "        text-align: right;\n",
       "    }\n",
       "</style>\n",
       "<table border=\"1\" class=\"dataframe\">\n",
       "  <thead>\n",
       "    <tr style=\"text-align: right;\">\n",
       "      <th></th>\n",
       "      <th>baixa</th>\n",
       "      <th>moderada</th>\n",
       "      <th>alta</th>\n",
       "      <th>madrugada</th>\n",
       "      <th>manha</th>\n",
       "      <th>tarde</th>\n",
       "      <th>noite</th>\n",
       "    </tr>\n",
       "  </thead>\n",
       "  <tbody>\n",
       "    <tr>\n",
       "      <th>0</th>\n",
       "      <td>1</td>\n",
       "      <td>0</td>\n",
       "      <td>0</td>\n",
       "      <td>0</td>\n",
       "      <td>0</td>\n",
       "      <td>0</td>\n",
       "      <td>1</td>\n",
       "    </tr>\n",
       "    <tr>\n",
       "      <th>1</th>\n",
       "      <td>0</td>\n",
       "      <td>1</td>\n",
       "      <td>0</td>\n",
       "      <td>0</td>\n",
       "      <td>1</td>\n",
       "      <td>0</td>\n",
       "      <td>0</td>\n",
       "    </tr>\n",
       "    <tr>\n",
       "      <th>2</th>\n",
       "      <td>0</td>\n",
       "      <td>1</td>\n",
       "      <td>0</td>\n",
       "      <td>0</td>\n",
       "      <td>0</td>\n",
       "      <td>0</td>\n",
       "      <td>1</td>\n",
       "    </tr>\n",
       "    <tr>\n",
       "      <th>3</th>\n",
       "      <td>1</td>\n",
       "      <td>0</td>\n",
       "      <td>0</td>\n",
       "      <td>0</td>\n",
       "      <td>0</td>\n",
       "      <td>0</td>\n",
       "      <td>1</td>\n",
       "    </tr>\n",
       "    <tr>\n",
       "      <th>4</th>\n",
       "      <td>1</td>\n",
       "      <td>0</td>\n",
       "      <td>0</td>\n",
       "      <td>0</td>\n",
       "      <td>0</td>\n",
       "      <td>1</td>\n",
       "      <td>0</td>\n",
       "    </tr>\n",
       "  </tbody>\n",
       "</table>\n",
       "</div>"
      ],
      "text/plain": [
       "   baixa  moderada  alta  madrugada  manha  tarde  noite\n",
       "0      1         0     0          0      0      0      1\n",
       "1      0         1     0          0      1      0      0\n",
       "2      0         1     0          0      0      0      1\n",
       "3      1         0     0          0      0      0      1\n",
       "4      1         0     0          0      0      1      0"
      ]
     },
     "execution_count": 60,
     "metadata": {},
     "output_type": "execute_result"
    }
   ],
   "source": [
    "dff_features.head()"
   ]
  },
  {
   "cell_type": "code",
   "execution_count": 61,
   "id": "ce586cee",
   "metadata": {},
   "outputs": [],
   "source": [
    "matrix = dff_features.to_numpy()"
   ]
  },
  {
   "cell_type": "code",
   "execution_count": 80,
   "id": "d223bf1d",
   "metadata": {},
   "outputs": [
    {
     "name": "stdout",
     "output_type": "stream",
     "text": [
      "[t-SNE] Computing 31 nearest neighbors...\n",
      "[t-SNE] Indexed 3885 samples in 0.014s...\n",
      "[t-SNE] Computed neighbors for 3885 samples in 0.077s...\n",
      "[t-SNE] Computed conditional probabilities for sample 1000 / 3885\n",
      "[t-SNE] Computed conditional probabilities for sample 2000 / 3885\n",
      "[t-SNE] Computed conditional probabilities for sample 3000 / 3885\n",
      "[t-SNE] Computed conditional probabilities for sample 3885 / 3885\n",
      "[t-SNE] Mean sigma: 0.000000\n",
      "[t-SNE] KL divergence after 250 iterations with early exaggeration: 99.907555\n",
      "[t-SNE] KL divergence after 1000 iterations: 2.506468\n"
     ]
    }
   ],
   "source": [
    "r_tsne = TSNE(n_components=2, random_state=1, perplexity=10, verbose=1).fit_transform(matrix)"
   ]
  },
  {
   "cell_type": "code",
   "execution_count": 57,
   "id": "9b6c1a9d",
   "metadata": {},
   "outputs": [],
   "source": [
    "import pandas as pd\n",
    "import matplotlib.pyplot as plt\n",
    "import matplotlib.colors as mcolors"
   ]
  },
  {
   "cell_type": "code",
   "execution_count": 82,
   "id": "19604e36",
   "metadata": {},
   "outputs": [
    {
     "name": "stderr",
     "output_type": "stream",
     "text": [
      "No handles with labels found to put in legend.\n"
     ]
    },
    {
     "data": {
      "image/png": "[encoded data removed]",
      "text/plain": [
       "<Figure size 1152x576 with 1 Axes>"
      ]
     },
     "metadata": {
      "needs_background": "light"
     },
     "output_type": "display_data"
    }
   ],
   "source": [
    "df_tsne = pd.DataFrame()\n",
    "df_tsne['x'] = r_tsne[:,0]\n",
    "df_tsne['y'] = r_tsne[:,1]\n",
    "plt.figure(figsize=(16,8))\n",
    "sns.scatterplot(\n",
    "    x='x',\n",
    "    y='y',\n",
    "    # hue=predicao,\n",
    "    # palette=sns.color_palette(\"hls\", len(set(predicao))),\n",
    "    data=df_tsne,\n",
    "    legend=\"full\",\n",
    "    alpha=0.3\n",
    ")\n",
    "plt.legend(loc='upper right')\n",
    "plt.show()"
   ]
  },
  {
   "cell_type": "code",
   "execution_count": 84,
   "id": "1e567910",
   "metadata": {},
   "outputs": [],
   "source": [
    "from sklearn.cluster import KMeans"
   ]
  },
  {
   "cell_type": "code",
   "execution_count": 101,
   "id": "db7457e9",
   "metadata": {},
   "outputs": [
    {
     "name": "stdout",
     "output_type": "stream",
     "text": [
      "Initialization complete\n",
      "Iteration 0, inertia 16.0\n",
      "Iteration 1, inertia 15.932384341637391\n",
      "Converged at iteration 1: strict convergence.\n",
      "Initialization complete\n",
      "Iteration 0, inertia 16.0\n",
      "Iteration 1, inertia 15.932384341637391\n",
      "Converged at iteration 1: strict convergence.\n",
      "Initialization complete\n",
      "Iteration 0, inertia 30.0\n",
      "Iteration 1, inertia 29.469793969966513\n",
      "Converged at iteration 1: strict convergence.\n",
      "Initialization complete\n",
      "Iteration 0, inertia 16.0\n",
      "Iteration 1, inertia 15.885644842483826\n",
      "Converged at iteration 1: strict convergence.\n",
      "Initialization complete\n",
      "Iteration 0, inertia 16.0\n",
      "Iteration 1, inertia 15.932384341637391\n",
      "Converged at iteration 1: strict convergence.\n",
      "Initialization complete\n",
      "Iteration 0, inertia 16.0\n",
      "Iteration 1, inertia 15.932384341637391\n",
      "Converged at iteration 1: strict convergence.\n",
      "Initialization complete\n",
      "Iteration 0, inertia 16.0\n",
      "Iteration 1, inertia 15.630387762138815\n",
      "Converged at iteration 1: strict convergence.\n",
      "Initialization complete\n",
      "Iteration 0, inertia 16.0\n",
      "Iteration 1, inertia 15.932384341637391\n",
      "Converged at iteration 1: strict convergence.\n",
      "Initialization complete\n",
      "Iteration 0, inertia 16.0\n",
      "Iteration 1, inertia 15.932384341637391\n",
      "Converged at iteration 1: strict convergence.\n",
      "Initialization complete\n",
      "Iteration 0, inertia 16.0\n",
      "Iteration 1, inertia 15.932384341637393\n",
      "Converged at iteration 1: strict convergence.\n"
     ]
    },
    {
     "data": {
      "text/plain": [
       "KMeans(random_state=0, verbose=1)"
      ]
     },
     "execution_count": 101,
     "metadata": {},
     "output_type": "execute_result"
    }
   ],
   "source": [
    "kmeans = KMeans(n_clusters=8, verbose=1, random_state=0)\n",
    "kmeans.fit(matrix)"
   ]
  },
  {
   "cell_type": "code",
   "execution_count": 102,
   "id": "641a223f",
   "metadata": {},
   "outputs": [],
   "source": [
    "prediction = kmeans.labels_"
   ]
  },
  {
   "cell_type": "code",
   "execution_count": 103,
   "id": "a9bf713f",
   "metadata": {},
   "outputs": [
    {
     "data": {
      "text/plain": [
       "3885"
      ]
     },
     "execution_count": 103,
     "metadata": {},
     "output_type": "execute_result"
    }
   ],
   "source": [
    "len(prediction)"
   ]
  },
  {
   "cell_type": "code",
   "execution_count": 104,
   "id": "93fe94bc",
   "metadata": {},
   "outputs": [
    {
     "data": {
      "image/png": "[encoded data removed]",
      "text/plain": [
       "<Figure size 1152x576 with 1 Axes>"
      ]
     },
     "metadata": {
      "needs_background": "light"
     },
     "output_type": "display_data"
    }
   ],
   "source": [
    "df_tsne = pd.DataFrame()\n",
    "df_tsne['x'] = r_tsne[:,0]\n",
    "df_tsne['y'] = r_tsne[:,1]\n",
    "plt.figure(figsize=(16,8))\n",
    "sns.scatterplot(\n",
    "    x='x',\n",
    "    y='y',\n",
    "    hue=prediction,\n",
    "    palette=sns.color_palette(\"hls\", len(set(prediction))),\n",
    "    data=df_tsne,\n",
    "    legend=\"full\",\n",
    "    alpha=0.3\n",
    ")\n",
    "plt.legend(loc='upper right')\n",
    "plt.show()"
   ]
  }
 ],
 "metadata": {
  "kernelspec": {
   "display_name": "Python 3",
   "language": "python",
   "name": "python3"
  },
  "language_info": {
   "codemirror_mode": {
    "name": "ipython",
    "version": 3
   },
   "file_extension": ".py",
   "mimetype": "text/x-python",
   "name": "python",
   "nbconvert_exporter": "python",
   "pygments_lexer": "ipython3",
   "version": "3.6.9"
  }
 },
 "nbformat": 4,
 "nbformat_minor": 5
}
